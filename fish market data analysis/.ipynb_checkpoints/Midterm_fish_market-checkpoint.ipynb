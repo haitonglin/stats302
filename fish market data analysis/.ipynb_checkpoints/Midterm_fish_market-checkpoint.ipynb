{
 "cells": [
  {
   "cell_type": "markdown",
   "metadata": {},
   "source": [
    "# STATS302 Midterm Project: Fish Market Data Analysis\n",
    "Haitong Lin, Muye (George) Wu"
   ]
  },
  {
   "cell_type": "code",
   "execution_count": 1,
   "metadata": {},
   "outputs": [],
   "source": [
    "# import python libraries\n",
    "import numpy as np \n",
    "import pandas as pd \n",
    "import seaborn as sns\n",
    "import matplotlib.pyplot as plt\n",
    "import statsmodels.api as sm\n",
    "import statsmodels.formula.api as smf\n",
    "from sklearn.model_selection import train_test_split\n",
    "from statsmodels.stats.outliers_influence import variance_inflation_factor \n",
    "from sklearn.linear_model import LinearRegression\n",
    "from sklearn.metrics import mean_squared_error, r2_score"
   ]
  },
  {
   "cell_type": "markdown",
   "metadata": {},
   "source": [
    "## 1. Introduction\n",
    "瞎扯一点关于这个dataset，这个project的大概情况。这部分不包含代码，可以全部做完了再写"
   ]
  },
  {
   "cell_type": "markdown",
   "metadata": {},
   "source": [
    "## 2. Exploratory Data Analysis\n"
   ]
  },
  {
   "cell_type": "code",
   "execution_count": 2,
   "metadata": {},
   "outputs": [
    {
     "data": {
      "text/html": [
       "<div>\n",
       "<style scoped>\n",
       "    .dataframe tbody tr th:only-of-type {\n",
       "        vertical-align: middle;\n",
       "    }\n",
       "\n",
       "    .dataframe tbody tr th {\n",
       "        vertical-align: top;\n",
       "    }\n",
       "\n",
       "    .dataframe thead th {\n",
       "        text-align: right;\n",
       "    }\n",
       "</style>\n",
       "<table border=\"1\" class=\"dataframe\">\n",
       "  <thead>\n",
       "    <tr style=\"text-align: right;\">\n",
       "      <th></th>\n",
       "      <th>Species</th>\n",
       "      <th>Weight</th>\n",
       "      <th>Length1</th>\n",
       "      <th>Length2</th>\n",
       "      <th>Length3</th>\n",
       "      <th>Height</th>\n",
       "      <th>Width</th>\n",
       "    </tr>\n",
       "  </thead>\n",
       "  <tbody>\n",
       "    <tr>\n",
       "      <th>0</th>\n",
       "      <td>Bream</td>\n",
       "      <td>242.0</td>\n",
       "      <td>23.2</td>\n",
       "      <td>25.4</td>\n",
       "      <td>30.0</td>\n",
       "      <td>11.5200</td>\n",
       "      <td>4.0200</td>\n",
       "    </tr>\n",
       "    <tr>\n",
       "      <th>1</th>\n",
       "      <td>Bream</td>\n",
       "      <td>290.0</td>\n",
       "      <td>24.0</td>\n",
       "      <td>26.3</td>\n",
       "      <td>31.2</td>\n",
       "      <td>12.4800</td>\n",
       "      <td>4.3056</td>\n",
       "    </tr>\n",
       "    <tr>\n",
       "      <th>2</th>\n",
       "      <td>Bream</td>\n",
       "      <td>340.0</td>\n",
       "      <td>23.9</td>\n",
       "      <td>26.5</td>\n",
       "      <td>31.1</td>\n",
       "      <td>12.3778</td>\n",
       "      <td>4.6961</td>\n",
       "    </tr>\n",
       "    <tr>\n",
       "      <th>3</th>\n",
       "      <td>Bream</td>\n",
       "      <td>363.0</td>\n",
       "      <td>26.3</td>\n",
       "      <td>29.0</td>\n",
       "      <td>33.5</td>\n",
       "      <td>12.7300</td>\n",
       "      <td>4.4555</td>\n",
       "    </tr>\n",
       "    <tr>\n",
       "      <th>4</th>\n",
       "      <td>Bream</td>\n",
       "      <td>430.0</td>\n",
       "      <td>26.5</td>\n",
       "      <td>29.0</td>\n",
       "      <td>34.0</td>\n",
       "      <td>12.4440</td>\n",
       "      <td>5.1340</td>\n",
       "    </tr>\n",
       "    <tr>\n",
       "      <th>...</th>\n",
       "      <td>...</td>\n",
       "      <td>...</td>\n",
       "      <td>...</td>\n",
       "      <td>...</td>\n",
       "      <td>...</td>\n",
       "      <td>...</td>\n",
       "      <td>...</td>\n",
       "    </tr>\n",
       "    <tr>\n",
       "      <th>154</th>\n",
       "      <td>Smelt</td>\n",
       "      <td>12.2</td>\n",
       "      <td>11.5</td>\n",
       "      <td>12.2</td>\n",
       "      <td>13.4</td>\n",
       "      <td>2.0904</td>\n",
       "      <td>1.3936</td>\n",
       "    </tr>\n",
       "    <tr>\n",
       "      <th>155</th>\n",
       "      <td>Smelt</td>\n",
       "      <td>13.4</td>\n",
       "      <td>11.7</td>\n",
       "      <td>12.4</td>\n",
       "      <td>13.5</td>\n",
       "      <td>2.4300</td>\n",
       "      <td>1.2690</td>\n",
       "    </tr>\n",
       "    <tr>\n",
       "      <th>156</th>\n",
       "      <td>Smelt</td>\n",
       "      <td>12.2</td>\n",
       "      <td>12.1</td>\n",
       "      <td>13.0</td>\n",
       "      <td>13.8</td>\n",
       "      <td>2.2770</td>\n",
       "      <td>1.2558</td>\n",
       "    </tr>\n",
       "    <tr>\n",
       "      <th>157</th>\n",
       "      <td>Smelt</td>\n",
       "      <td>19.7</td>\n",
       "      <td>13.2</td>\n",
       "      <td>14.3</td>\n",
       "      <td>15.2</td>\n",
       "      <td>2.8728</td>\n",
       "      <td>2.0672</td>\n",
       "    </tr>\n",
       "    <tr>\n",
       "      <th>158</th>\n",
       "      <td>Smelt</td>\n",
       "      <td>19.9</td>\n",
       "      <td>13.8</td>\n",
       "      <td>15.0</td>\n",
       "      <td>16.2</td>\n",
       "      <td>2.9322</td>\n",
       "      <td>1.8792</td>\n",
       "    </tr>\n",
       "  </tbody>\n",
       "</table>\n",
       "<p>159 rows × 7 columns</p>\n",
       "</div>"
      ],
      "text/plain": [
       "    Species  Weight  Length1  Length2  Length3   Height   Width\n",
       "0     Bream   242.0     23.2     25.4     30.0  11.5200  4.0200\n",
       "1     Bream   290.0     24.0     26.3     31.2  12.4800  4.3056\n",
       "2     Bream   340.0     23.9     26.5     31.1  12.3778  4.6961\n",
       "3     Bream   363.0     26.3     29.0     33.5  12.7300  4.4555\n",
       "4     Bream   430.0     26.5     29.0     34.0  12.4440  5.1340\n",
       "..      ...     ...      ...      ...      ...      ...     ...\n",
       "154   Smelt    12.2     11.5     12.2     13.4   2.0904  1.3936\n",
       "155   Smelt    13.4     11.7     12.4     13.5   2.4300  1.2690\n",
       "156   Smelt    12.2     12.1     13.0     13.8   2.2770  1.2558\n",
       "157   Smelt    19.7     13.2     14.3     15.2   2.8728  2.0672\n",
       "158   Smelt    19.9     13.8     15.0     16.2   2.9322  1.8792\n",
       "\n",
       "[159 rows x 7 columns]"
      ]
     },
     "execution_count": 2,
     "metadata": {},
     "output_type": "execute_result"
    }
   ],
   "source": [
    "# data overview\n",
    "data=pd.read_csv('fish.csv')\n",
    "data"
   ]
  },
  {
   "cell_type": "code",
   "execution_count": 3,
   "metadata": {},
   "outputs": [
    {
     "name": "stdout",
     "output_type": "stream",
     "text": [
      "<class 'pandas.core.frame.DataFrame'>\n",
      "RangeIndex: 159 entries, 0 to 158\n",
      "Data columns (total 7 columns):\n",
      " #   Column   Non-Null Count  Dtype  \n",
      "---  ------   --------------  -----  \n",
      " 0   Species  159 non-null    object \n",
      " 1   Weight   159 non-null    float64\n",
      " 2   Length1  159 non-null    float64\n",
      " 3   Length2  159 non-null    float64\n",
      " 4   Length3  159 non-null    float64\n",
      " 5   Height   159 non-null    float64\n",
      " 6   Width    159 non-null    float64\n",
      "dtypes: float64(6), object(1)\n",
      "memory usage: 8.8+ KB\n"
     ]
    }
   ],
   "source": [
    "# basic info of the data\n",
    "data.info()"
   ]
  },
  {
   "cell_type": "code",
   "execution_count": 4,
   "metadata": {},
   "outputs": [
    {
     "data": {
      "text/plain": [
       "False"
      ]
     },
     "execution_count": 4,
     "metadata": {},
     "output_type": "execute_result"
    }
   ],
   "source": [
    "# check to see if the data has any NaN/null values\n",
    "data.isnull().values.any()"
   ]
  },
  {
   "cell_type": "code",
   "execution_count": 5,
   "metadata": {},
   "outputs": [
    {
     "data": {
      "text/html": [
       "<div>\n",
       "<style scoped>\n",
       "    .dataframe tbody tr th:only-of-type {\n",
       "        vertical-align: middle;\n",
       "    }\n",
       "\n",
       "    .dataframe tbody tr th {\n",
       "        vertical-align: top;\n",
       "    }\n",
       "\n",
       "    .dataframe thead th {\n",
       "        text-align: right;\n",
       "    }\n",
       "</style>\n",
       "<table border=\"1\" class=\"dataframe\">\n",
       "  <thead>\n",
       "    <tr style=\"text-align: right;\">\n",
       "      <th></th>\n",
       "      <th>count</th>\n",
       "      <th>mean</th>\n",
       "      <th>std</th>\n",
       "      <th>min</th>\n",
       "      <th>25%</th>\n",
       "      <th>50%</th>\n",
       "      <th>75%</th>\n",
       "      <th>max</th>\n",
       "    </tr>\n",
       "  </thead>\n",
       "  <tbody>\n",
       "    <tr>\n",
       "      <th>Weight</th>\n",
       "      <td>159.0</td>\n",
       "      <td>398.326415</td>\n",
       "      <td>357.978317</td>\n",
       "      <td>0.0000</td>\n",
       "      <td>120.00000</td>\n",
       "      <td>273.0000</td>\n",
       "      <td>650.0000</td>\n",
       "      <td>1650.000</td>\n",
       "    </tr>\n",
       "    <tr>\n",
       "      <th>Length1</th>\n",
       "      <td>159.0</td>\n",
       "      <td>26.247170</td>\n",
       "      <td>9.996441</td>\n",
       "      <td>7.5000</td>\n",
       "      <td>19.05000</td>\n",
       "      <td>25.2000</td>\n",
       "      <td>32.7000</td>\n",
       "      <td>59.000</td>\n",
       "    </tr>\n",
       "    <tr>\n",
       "      <th>Length2</th>\n",
       "      <td>159.0</td>\n",
       "      <td>28.415723</td>\n",
       "      <td>10.716328</td>\n",
       "      <td>8.4000</td>\n",
       "      <td>21.00000</td>\n",
       "      <td>27.3000</td>\n",
       "      <td>35.5000</td>\n",
       "      <td>63.400</td>\n",
       "    </tr>\n",
       "    <tr>\n",
       "      <th>Length3</th>\n",
       "      <td>159.0</td>\n",
       "      <td>31.227044</td>\n",
       "      <td>11.610246</td>\n",
       "      <td>8.8000</td>\n",
       "      <td>23.15000</td>\n",
       "      <td>29.4000</td>\n",
       "      <td>39.6500</td>\n",
       "      <td>68.000</td>\n",
       "    </tr>\n",
       "    <tr>\n",
       "      <th>Height</th>\n",
       "      <td>159.0</td>\n",
       "      <td>8.970994</td>\n",
       "      <td>4.286208</td>\n",
       "      <td>1.7284</td>\n",
       "      <td>5.94480</td>\n",
       "      <td>7.7860</td>\n",
       "      <td>12.3659</td>\n",
       "      <td>18.957</td>\n",
       "    </tr>\n",
       "    <tr>\n",
       "      <th>Width</th>\n",
       "      <td>159.0</td>\n",
       "      <td>4.417486</td>\n",
       "      <td>1.685804</td>\n",
       "      <td>1.0476</td>\n",
       "      <td>3.38565</td>\n",
       "      <td>4.2485</td>\n",
       "      <td>5.5845</td>\n",
       "      <td>8.142</td>\n",
       "    </tr>\n",
       "  </tbody>\n",
       "</table>\n",
       "</div>"
      ],
      "text/plain": [
       "         count        mean         std     min        25%       50%       75%  \\\n",
       "Weight   159.0  398.326415  357.978317  0.0000  120.00000  273.0000  650.0000   \n",
       "Length1  159.0   26.247170    9.996441  7.5000   19.05000   25.2000   32.7000   \n",
       "Length2  159.0   28.415723   10.716328  8.4000   21.00000   27.3000   35.5000   \n",
       "Length3  159.0   31.227044   11.610246  8.8000   23.15000   29.4000   39.6500   \n",
       "Height   159.0    8.970994    4.286208  1.7284    5.94480    7.7860   12.3659   \n",
       "Width    159.0    4.417486    1.685804  1.0476    3.38565    4.2485    5.5845   \n",
       "\n",
       "              max  \n",
       "Weight   1650.000  \n",
       "Length1    59.000  \n",
       "Length2    63.400  \n",
       "Length3    68.000  \n",
       "Height     18.957  \n",
       "Width       8.142  "
      ]
     },
     "execution_count": 5,
     "metadata": {},
     "output_type": "execute_result"
    }
   ],
   "source": [
    "# basic statistical features of the dataset\n",
    "data.describe().T"
   ]
  },
  {
   "cell_type": "markdown",
   "metadata": {},
   "source": [
    "这里写一小段总结，说说上面的大概情况。这个dataset总体来说比较小而且干净，行列数也不怎么多，里面也没有空的东西。随便讲讲基本的statistic就可以了"
   ]
  },
  {
   "cell_type": "code",
   "execution_count": 6,
   "metadata": {},
   "outputs": [
    {
     "data": {
      "image/png": "[encoded data removed]",
      "text/plain": [
       "<Figure size 432x288 with 1 Axes>"
      ]
     },
     "metadata": {
      "needs_background": "light"
     },
     "output_type": "display_data"
    }
   ],
   "source": [
    "# histogram\n",
    "sp = data['Species'].value_counts()\n",
    "sp = pd.DataFrame(sp)\n",
    "sns.barplot(x=sp.index, y=sp['Species']);\n",
    "plt.xlabel('Species')\n",
    "plt.ylabel('Counts of Species')\n",
    "plt.title('Historgram of Species')\n",
    "plt.show()"
   ]
  },
  {
   "cell_type": "markdown",
   "metadata": {},
   "source": [
    "这里总结一下上面的图的结论"
   ]
  },
  {
   "cell_type": "code",
   "execution_count": 7,
   "metadata": {},
   "outputs": [
    {
     "data": {
      "text/html": [
       "<div>\n",
       "<style scoped>\n",
       "    .dataframe tbody tr th:only-of-type {\n",
       "        vertical-align: middle;\n",
       "    }\n",
       "\n",
       "    .dataframe tbody tr th {\n",
       "        vertical-align: top;\n",
       "    }\n",
       "\n",
       "    .dataframe thead th {\n",
       "        text-align: right;\n",
       "    }\n",
       "</style>\n",
       "<table border=\"1\" class=\"dataframe\">\n",
       "  <thead>\n",
       "    <tr style=\"text-align: right;\">\n",
       "      <th></th>\n",
       "      <th>Weight</th>\n",
       "      <th>Length1</th>\n",
       "      <th>Length2</th>\n",
       "      <th>Length3</th>\n",
       "      <th>Height</th>\n",
       "      <th>Width</th>\n",
       "    </tr>\n",
       "  </thead>\n",
       "  <tbody>\n",
       "    <tr>\n",
       "      <th>Weight</th>\n",
       "      <td>1.000000</td>\n",
       "      <td>0.915712</td>\n",
       "      <td>0.918618</td>\n",
       "      <td>0.923044</td>\n",
       "      <td>0.724345</td>\n",
       "      <td>0.886507</td>\n",
       "    </tr>\n",
       "    <tr>\n",
       "      <th>Length1</th>\n",
       "      <td>0.915712</td>\n",
       "      <td>1.000000</td>\n",
       "      <td>0.999517</td>\n",
       "      <td>0.992031</td>\n",
       "      <td>0.625378</td>\n",
       "      <td>0.867050</td>\n",
       "    </tr>\n",
       "    <tr>\n",
       "      <th>Length2</th>\n",
       "      <td>0.918618</td>\n",
       "      <td>0.999517</td>\n",
       "      <td>1.000000</td>\n",
       "      <td>0.994103</td>\n",
       "      <td>0.640441</td>\n",
       "      <td>0.873547</td>\n",
       "    </tr>\n",
       "    <tr>\n",
       "      <th>Length3</th>\n",
       "      <td>0.923044</td>\n",
       "      <td>0.992031</td>\n",
       "      <td>0.994103</td>\n",
       "      <td>1.000000</td>\n",
       "      <td>0.703409</td>\n",
       "      <td>0.878520</td>\n",
       "    </tr>\n",
       "    <tr>\n",
       "      <th>Height</th>\n",
       "      <td>0.724345</td>\n",
       "      <td>0.625378</td>\n",
       "      <td>0.640441</td>\n",
       "      <td>0.703409</td>\n",
       "      <td>1.000000</td>\n",
       "      <td>0.792881</td>\n",
       "    </tr>\n",
       "    <tr>\n",
       "      <th>Width</th>\n",
       "      <td>0.886507</td>\n",
       "      <td>0.867050</td>\n",
       "      <td>0.873547</td>\n",
       "      <td>0.878520</td>\n",
       "      <td>0.792881</td>\n",
       "      <td>1.000000</td>\n",
       "    </tr>\n",
       "  </tbody>\n",
       "</table>\n",
       "</div>"
      ],
      "text/plain": [
       "           Weight   Length1   Length2   Length3    Height     Width\n",
       "Weight   1.000000  0.915712  0.918618  0.923044  0.724345  0.886507\n",
       "Length1  0.915712  1.000000  0.999517  0.992031  0.625378  0.867050\n",
       "Length2  0.918618  0.999517  1.000000  0.994103  0.640441  0.873547\n",
       "Length3  0.923044  0.992031  0.994103  1.000000  0.703409  0.878520\n",
       "Height   0.724345  0.625378  0.640441  0.703409  1.000000  0.792881\n",
       "Width    0.886507  0.867050  0.873547  0.878520  0.792881  1.000000"
      ]
     },
     "execution_count": 7,
     "metadata": {},
     "output_type": "execute_result"
    }
   ],
   "source": [
    "# check to see the correlations between the attributes of this dataset\n",
    "data.corr()"
   ]
  },
  {
   "cell_type": "code",
   "execution_count": 8,
   "metadata": {},
   "outputs": [
    {
     "data": {
      "image/png": "[encoded data removed]",
      "text/plain": [
       "<Figure size 432x288 with 1 Axes>"
      ]
     },
     "metadata": {
      "needs_background": "light"
     },
     "output_type": "display_data"
    }
   ],
   "source": [
    "# the heatmap displaying the correlations\n",
    "sns.heatmap(data.corr(), annot=True,cbar=False,cmap=\"YlGnBu\");"
   ]
  },
  {
   "cell_type": "markdown",
   "metadata": {},
   "source": [
    "这里总结一下上面两个cell的结论（基本就是说说它的关联性很强之类的，毕竟我们接下来是要做regression的）"
   ]
  },
  {
   "cell_type": "code",
   "execution_count": 9,
   "metadata": {},
   "outputs": [],
   "source": [
    "# VIF score\n"
   ]
  },
  {
   "cell_type": "markdown",
   "metadata": {},
   "source": [
    "这里算一下vif然后写一下结论，我找了下面这个网页你可以参考一下\n",
    "https://www.geeksforgeeks.org/detecting-multicollinearity-with-vif-python/"
   ]
  },
  {
   "cell_type": "markdown",
   "metadata": {},
   "source": [
    "## 3. Machine Learning Model Implementation\n",
    "\n",
    "### Learning Task: Predicting the Weight of the Fish\n",
    "After discussion, we have chosen the learning task to be predicting the weight of the fish with length, height and width. We have chosen weight to predict because weight is the only column (besides species) that does not measures shape. The other columns measure shape with length in different parts of a fish, and so intuitivity we think that it makes sense to use the information about the shape to prediect the weight.\n",
    "\n",
    "### Model: Multivariable Regression\n",
    "We've decided to use regression for this learning task on prediecting the weight of the fish because as is shown in the data analysis section above, the data has displayed strong correlation between different colunmns. Also, since more than 1 column has shown strong connection with weight, we will do a multivariable regression. We choose regression over classification because weight is a numerical value, instead of a discrete \"label\". \n",
    "\n",
    "----\n",
    "### Model 1: general case\n",
    "We will first do a model to predict the weight with length1, 2 and 3 as well as height and width:\n"
   ]
  },
  {
   "cell_type": "code",
   "execution_count": 10,
   "metadata": {},
   "outputs": [],
   "source": [
    "# add a constant column to make the ols work\n",
    "data['constant']=[1]*159\n",
    "# target variable: weight\n",
    "y = data['Weight']\n",
    "# independent variable set: everything besides species and weight\n",
    "X = data.iloc[:,2:8]"
   ]
  },
  {
   "cell_type": "code",
   "execution_count": 11,
   "metadata": {},
   "outputs": [
    {
     "name": "stdout",
     "output_type": "stream",
     "text": [
      "                            OLS Regression Results                            \n",
      "==============================================================================\n",
      "Dep. Variable:                 Weight   R-squared:                       0.886\n",
      "Model:                            OLS   Adj. R-squared:                  0.881\n",
      "Method:                 Least Squares   F-statistic:                     188.4\n",
      "Date:                Sat, 28 Nov 2020   Prob (F-statistic):           2.42e-55\n",
      "Time:                        10:23:44   Log-Likelihood:                -787.32\n",
      "No. Observations:                 127   AIC:                             1587.\n",
      "Df Residuals:                     121   BIC:                             1604.\n",
      "Df Model:                           5                                         \n",
      "Covariance Type:            nonrobust                                         \n",
      "==============================================================================\n",
      "                 coef    std err          t      P>|t|      [0.025      0.975]\n",
      "------------------------------------------------------------------------------\n",
      "Length1       56.9059     44.689      1.273      0.205     -31.568     145.379\n",
      "Length2       -4.6347     46.913     -0.099      0.921     -97.512      88.242\n",
      "Length3      -28.5448     18.299     -1.560      0.121     -64.772       7.682\n",
      "Height        24.2558      9.199      2.637      0.009       6.044      42.468\n",
      "Width         43.6835     21.584      2.024      0.045       0.952      86.415\n",
      "constant    -484.8536     32.466    -14.934      0.000    -549.128    -420.579\n",
      "==============================================================================\n",
      "Omnibus:                       29.347   Durbin-Watson:                   1.933\n",
      "Prob(Omnibus):                  0.000   Jarque-Bera (JB):               50.542\n",
      "Skew:                           1.053   Prob(JB):                     1.06e-11\n",
      "Kurtosis:                       5.262   Cond. No.                         323.\n",
      "==============================================================================\n",
      "\n",
      "Warnings:\n",
      "[1] Standard Errors assume that the covariance matrix of the errors is correctly specified.\n"
     ]
    }
   ],
   "source": [
    "# split traning and testing datasets\n",
    "X_train, X_test, y_train, y_test = train_test_split(X, y, test_size=0.2, random_state=1)\n",
    "# fitting the data with train data\n",
    "ols = sm.OLS(y_train, X_train)\n",
    "model = ols.fit()\n",
    "# print the result summary\n",
    "print(model.summary())"
   ]
  },
  {
   "cell_type": "markdown",
   "metadata": {},
   "source": [
    "As is shown in the fitting results, the accuracy is _____"
   ]
  },
  {
   "cell_type": "markdown",
   "metadata": {},
   "source": [
    "----\n",
    "### Model 2: Prediction with Different Species\n",
    "Even though the model is relatively accurate, we will continue to seek imporvements. It is obvious that we've been cutting out an important variable in our analysis: the species. Therefore, we will separate these data into different groups based on their species, and fit each group with OLS models to see whether it produces more satisfying results.\n",
    " \n",
    "Also, as is shown in the histogram in the analysis above, only Bream and Perch have more than 20 entries. Therefore, we will not be analyzing the other species for now because the data avaliable is too few."
   ]
  },
  {
   "cell_type": "code",
   "execution_count": 12,
   "metadata": {},
   "outputs": [
    {
     "name": "stdout",
     "output_type": "stream",
     "text": [
      "                            OLS Regression Results                            \n",
      "==============================================================================\n",
      "Dep. Variable:                 Weight   R-squared:                       0.934\n",
      "Model:                            OLS   Adj. R-squared:                  0.920\n",
      "Method:                 Least Squares   F-statistic:                     62.76\n",
      "Date:                Sat, 28 Nov 2020   Prob (F-statistic):           2.81e-12\n",
      "Time:                        10:23:48   Log-Likelihood:                -149.35\n",
      "No. Observations:                  28   AIC:                             310.7\n",
      "Df Residuals:                      22   BIC:                             318.7\n",
      "Df Model:                           5                                         \n",
      "Covariance Type:            nonrobust                                         \n",
      "==============================================================================\n",
      "                 coef    std err          t      P>|t|      [0.025      0.975]\n",
      "------------------------------------------------------------------------------\n",
      "Length1      -15.4211     60.272     -0.256      0.800    -140.417     109.575\n",
      "Length2       82.8891     76.880      1.078      0.293     -76.551     242.329\n",
      "Length3      -46.0550     63.266     -0.728      0.474    -177.262      85.152\n",
      "Height        55.6460     22.744      2.447      0.023       8.478     102.814\n",
      "Width         23.7979     54.768      0.435      0.668     -89.783     137.379\n",
      "constant    -869.1780    208.294     -4.173      0.000   -1301.154    -437.202\n",
      "==============================================================================\n",
      "Omnibus:                        9.251   Durbin-Watson:                   2.127\n",
      "Prob(Omnibus):                  0.010   Jarque-Bera (JB):               15.236\n",
      "Skew:                          -0.385   Prob(JB):                     0.000492\n",
      "Kurtosis:                       6.531   Cond. No.                     1.26e+03\n",
      "==============================================================================\n",
      "\n",
      "Warnings:\n",
      "[1] Standard Errors assume that the covariance matrix of the errors is correctly specified.\n",
      "[2] The condition number is large, 1.26e+03. This might indicate that there are\n",
      "strong multicollinearity or other numerical problems.\n"
     ]
    }
   ],
   "source": [
    "# group 1: Bream\n",
    "data_bream = data.loc[data['Species']=='Bream']\n",
    "y_bream = data_bream['Weight']\n",
    "X_bream = data_bream.iloc[:,2:8]\n",
    "X_bream_train, X_bream_test, y_bream_train, y_bream_test = train_test_split(X_bream, y_bream, test_size=0.2, random_state=1)\n",
    "ols = sm.OLS(y_bream_train, X_bream_train)\n",
    "model_bream = ols.fit()\n",
    "print(model_bream.summary())\n"
   ]
  },
  {
   "cell_type": "code",
   "execution_count": 13,
   "metadata": {},
   "outputs": [
    {
     "name": "stdout",
     "output_type": "stream",
     "text": [
      "                            OLS Regression Results                            \n",
      "==============================================================================\n",
      "Dep. Variable:                 Weight   R-squared:                       0.933\n",
      "Model:                            OLS   Adj. R-squared:                  0.925\n",
      "Method:                 Least Squares   F-statistic:                     106.4\n",
      "Date:                Sat, 28 Nov 2020   Prob (F-statistic):           2.80e-21\n",
      "Time:                        10:23:50   Log-Likelihood:                -258.36\n",
      "No. Observations:                  44   AIC:                             528.7\n",
      "Df Residuals:                      38   BIC:                             539.4\n",
      "Df Model:                           5                                         \n",
      "Covariance Type:            nonrobust                                         \n",
      "==============================================================================\n",
      "                 coef    std err          t      P>|t|      [0.025      0.975]\n",
      "------------------------------------------------------------------------------\n",
      "Length1       -3.9968     67.583     -0.059      0.953    -140.811     132.817\n",
      "Length2       -7.3445    103.462     -0.071      0.944    -216.793     202.104\n",
      "Length3       19.0112     68.199      0.279      0.782    -119.051     157.073\n",
      "Height        62.5144     37.237      1.679      0.101     -12.867     137.896\n",
      "Width         41.5478     48.805      0.851      0.400     -57.254     140.349\n",
      "constant    -563.8158     71.360     -7.901      0.000    -708.276    -419.356\n",
      "==============================================================================\n",
      "Omnibus:                       20.083   Durbin-Watson:                   2.059\n",
      "Prob(Omnibus):                  0.000   Jarque-Bera (JB):               26.890\n",
      "Skew:                           1.511   Prob(JB):                     1.45e-06\n",
      "Kurtosis:                       5.353   Cond. No.                         470.\n",
      "==============================================================================\n",
      "\n",
      "Warnings:\n",
      "[1] Standard Errors assume that the covariance matrix of the errors is correctly specified.\n"
     ]
    }
   ],
   "source": [
    "# group 2: Perch\n",
    "data_perch = data.loc[data['Species']=='Perch']\n",
    "y_perch = data_perch['Weight']\n",
    "X_perch = data_perch.iloc[:,2:8]\n",
    "X_perch_train, X_perch_test, y_perch_train, y_perch_test = train_test_split(X_perch, y_perch, test_size=0.2, random_state=1)\n",
    "ols = sm.OLS(y_perch_train, X_perch_train)\n",
    "model_perch = ols.fit()\n",
    "print(model_perch.summary())"
   ]
  },
  {
   "cell_type": "code",
   "execution_count": 14,
   "metadata": {},
   "outputs": [
    {
     "name": "stdout",
     "output_type": "stream",
     "text": [
      "                            OLS Regression Results                            \n",
      "==============================================================================\n",
      "Dep. Variable:                 Weight   R-squared:                       0.866\n",
      "Model:                            OLS   Adj. R-squared:                  0.799\n",
      "Method:                 Least Squares   F-statistic:                     12.90\n",
      "Date:                Sat, 28 Nov 2020   Prob (F-statistic):           0.000428\n",
      "Time:                        10:23:50   Log-Likelihood:                -79.408\n",
      "No. Observations:                  16   AIC:                             170.8\n",
      "Df Residuals:                      10   BIC:                             175.5\n",
      "Df Model:                           5                                         \n",
      "Covariance Type:            nonrobust                                         \n",
      "==============================================================================\n",
      "                 coef    std err          t      P>|t|      [0.025      0.975]\n",
      "------------------------------------------------------------------------------\n",
      "Length1      -33.7270     65.555     -0.514      0.618    -179.792     112.338\n",
      "Length2       16.9667     72.859      0.233      0.821    -145.374     179.307\n",
      "Length3       24.2711     39.438      0.615      0.552     -63.603     112.145\n",
      "Height       -11.0676     32.489     -0.341      0.740     -83.457      61.322\n",
      "Width         76.6609     62.242      1.232      0.246     -62.023     215.344\n",
      "constant    -338.9589     78.777     -4.303      0.002    -514.486    -163.432\n",
      "==============================================================================\n",
      "Omnibus:                       14.664   Durbin-Watson:                   1.672\n",
      "Prob(Omnibus):                  0.001   Jarque-Bera (JB):               12.792\n",
      "Skew:                          -1.480   Prob(JB):                      0.00167\n",
      "Kurtosis:                       6.228   Cond. No.                         372.\n",
      "==============================================================================\n",
      "\n",
      "Warnings:\n",
      "[1] Standard Errors assume that the covariance matrix of the errors is correctly specified.\n"
     ]
    },
    {
     "name": "stderr",
     "output_type": "stream",
     "text": [
      "/opt/anaconda3/lib/python3.7/site-packages/scipy/stats/stats.py:1535: UserWarning: kurtosistest only valid for n>=20 ... continuing anyway, n=16\n",
      "  \"anyway, n=%i\" % int(n))\n"
     ]
    }
   ],
   "source": [
    "# group 3: Roach\n",
    "data_roach = data.loc[data['Species']=='Roach']\n",
    "y_roach = data_roach['Weight']\n",
    "X_roach = data_roach.iloc[:,2:8]\n",
    "X_roach_train, X_roach_test, y_roach_train, y_roach_test = train_test_split(X_roach, y_roach, test_size=0.2, random_state=1)\n",
    "ols = sm.OLS(y_roach_train, X_roach_train)\n",
    "model_roach = ols.fit()\n",
    "print(model_roach.summary())"
   ]
  },
  {
   "cell_type": "code",
   "execution_count": 15,
   "metadata": {},
   "outputs": [
    {
     "name": "stdout",
     "output_type": "stream",
     "text": [
      "                            OLS Regression Results                            \n",
      "==============================================================================\n",
      "Dep. Variable:                 Weight   R-squared:                       0.990\n",
      "Model:                            OLS   Adj. R-squared:                  0.982\n",
      "Method:                 Least Squares   F-statistic:                     133.3\n",
      "Date:                Sat, 28 Nov 2020   Prob (F-statistic):           8.77e-07\n",
      "Time:                        10:23:52   Log-Likelihood:                -69.472\n",
      "No. Observations:                  13   AIC:                             150.9\n",
      "Df Residuals:                       7   BIC:                             154.3\n",
      "Df Model:                           5                                         \n",
      "Covariance Type:            nonrobust                                         \n",
      "==============================================================================\n",
      "                 coef    std err          t      P>|t|      [0.025      0.975]\n",
      "------------------------------------------------------------------------------\n",
      "Length1     -599.7850    171.950     -3.488      0.010   -1006.382    -193.188\n",
      "Length2      403.5484    182.853      2.207      0.063     -28.831     835.928\n",
      "Length3      193.9135     54.810      3.538      0.009      64.308     323.519\n",
      "Height       229.3830     71.355      3.215      0.015      60.656     398.110\n",
      "Width       -316.3565     84.717     -3.734      0.007    -516.680    -116.033\n",
      "constant   -1764.7341    121.260    -14.553      0.000   -2051.468   -1478.000\n",
      "==============================================================================\n",
      "Omnibus:                        2.155   Durbin-Watson:                   1.572\n",
      "Prob(Omnibus):                  0.340   Jarque-Bera (JB):                0.946\n",
      "Skew:                          -0.102   Prob(JB):                        0.623\n",
      "Kurtosis:                       1.694   Cond. No.                     1.09e+03\n",
      "==============================================================================\n",
      "\n",
      "Warnings:\n",
      "[1] Standard Errors assume that the covariance matrix of the errors is correctly specified.\n",
      "[2] The condition number is large, 1.09e+03. This might indicate that there are\n",
      "strong multicollinearity or other numerical problems.\n"
     ]
    },
    {
     "name": "stderr",
     "output_type": "stream",
     "text": [
      "/opt/anaconda3/lib/python3.7/site-packages/scipy/stats/stats.py:1535: UserWarning: kurtosistest only valid for n>=20 ... continuing anyway, n=13\n",
      "  \"anyway, n=%i\" % int(n))\n"
     ]
    }
   ],
   "source": [
    "# group 4: Pike\n",
    "data_pike = data.loc[data['Species']=='Pike']\n",
    "y_pike = data_pike['Weight']\n",
    "X_pike = data_pike.iloc[:,2:8]\n",
    "X_pike_train, X_pike_test, y_pike_train, y_pike_test = train_test_split(X_pike, y_pike, test_size=0.2, random_state=1)\n",
    "ols = sm.OLS(y_pike_train, X_pike_train)\n",
    "model_pike = ols.fit()\n",
    "print(model_pike.summary())"
   ]
  },
  {
   "cell_type": "code",
   "execution_count": 16,
   "metadata": {},
   "outputs": [
    {
     "name": "stdout",
     "output_type": "stream",
     "text": [
      "                            OLS Regression Results                            \n",
      "==============================================================================\n",
      "Dep. Variable:                 Weight   R-squared:                       0.984\n",
      "Model:                            OLS   Adj. R-squared:                  0.969\n",
      "Method:                 Least Squares   F-statistic:                     62.56\n",
      "Date:                Sat, 28 Nov 2020   Prob (F-statistic):           0.000166\n",
      "Time:                        10:23:54   Log-Likelihood:                -9.1301\n",
      "No. Observations:                  11   AIC:                             30.26\n",
      "Df Residuals:                       5   BIC:                             32.65\n",
      "Df Model:                           5                                         \n",
      "Covariance Type:            nonrobust                                         \n",
      "==============================================================================\n",
      "                 coef    std err          t      P>|t|      [0.025      0.975]\n",
      "------------------------------------------------------------------------------\n",
      "Length1       -3.6017      5.177     -0.696      0.518     -16.911       9.707\n",
      "Length2        3.5929      3.321      1.082      0.329      -4.944      12.130\n",
      "Length3        0.4829      2.446      0.197      0.851      -5.806       6.771\n",
      "Height         4.6559      2.452      1.899      0.116      -1.647      10.959\n",
      "Width          3.8096      1.909      1.996      0.103      -1.098       8.717\n",
      "constant     -12.6732      4.741     -2.673      0.044     -24.860      -0.487\n",
      "==============================================================================\n",
      "Omnibus:                        1.164   Durbin-Watson:                   2.234\n",
      "Prob(Omnibus):                  0.559   Jarque-Bera (JB):                0.906\n",
      "Skew:                           0.581   Prob(JB):                        0.636\n",
      "Kurtosis:                       2.209   Cond. No.                         626.\n",
      "==============================================================================\n",
      "\n",
      "Warnings:\n",
      "[1] Standard Errors assume that the covariance matrix of the errors is correctly specified.\n"
     ]
    },
    {
     "name": "stderr",
     "output_type": "stream",
     "text": [
      "/opt/anaconda3/lib/python3.7/site-packages/scipy/stats/stats.py:1535: UserWarning: kurtosistest only valid for n>=20 ... continuing anyway, n=11\n",
      "  \"anyway, n=%i\" % int(n))\n"
     ]
    }
   ],
   "source": [
    "# group 5: Smelt\n",
    "data_smelt = data.loc[data['Species']=='Smelt']\n",
    "y_smelt = data_smelt['Weight']\n",
    "X_smelt = data_smelt.iloc[:,2:8]\n",
    "X_smelt_train, X_smelt_test, y_smelt_train, y_smelt_test = train_test_split(X_smelt, y_smelt, test_size=0.2, random_state=1)\n",
    "ols = sm.OLS(y_smelt_train, X_smelt_train)\n",
    "model_smelt = ols.fit()\n",
    "print(model_smelt.summary())"
   ]
  },
  {
   "cell_type": "code",
   "execution_count": 17,
   "metadata": {},
   "outputs": [
    {
     "name": "stdout",
     "output_type": "stream",
     "text": [
      "                            OLS Regression Results                            \n",
      "==============================================================================\n",
      "Dep. Variable:                 Weight   R-squared:                       0.995\n",
      "Model:                            OLS   Adj. R-squared:                  0.983\n",
      "Method:                 Least Squares   F-statistic:                     80.38\n",
      "Date:                Sat, 28 Nov 2020   Prob (F-statistic):             0.0123\n",
      "Time:                        10:23:56   Log-Likelihood:                -25.478\n",
      "No. Observations:                   8   AIC:                             62.96\n",
      "Df Residuals:                       2   BIC:                             63.43\n",
      "Df Model:                           5                                         \n",
      "Covariance Type:            nonrobust                                         \n",
      "==============================================================================\n",
      "                 coef    std err          t      P>|t|      [0.025      0.975]\n",
      "------------------------------------------------------------------------------\n",
      "Length1      239.5596    139.993      1.711      0.229    -362.782     841.901\n",
      "Length2      -71.3656    247.737     -0.288      0.800   -1137.294     994.563\n",
      "Length3     -144.5811    134.177     -1.078      0.394    -721.900     432.738\n",
      "Height        12.2188     14.099      0.867      0.477     -48.445      72.882\n",
      "Width        151.6565     42.179      3.596      0.069     -29.824     333.137\n",
      "constant    -179.8790     32.270     -5.574      0.031    -318.724     -41.034\n",
      "==============================================================================\n",
      "Omnibus:                        1.112   Durbin-Watson:                   0.753\n",
      "Prob(Omnibus):                  0.574   Jarque-Bera (JB):                0.327\n",
      "Skew:                           0.474   Prob(JB):                        0.849\n",
      "Kurtosis:                       2.716   Cond. No.                     2.82e+03\n",
      "==============================================================================\n",
      "\n",
      "Warnings:\n",
      "[1] Standard Errors assume that the covariance matrix of the errors is correctly specified.\n",
      "[2] The condition number is large, 2.82e+03. This might indicate that there are\n",
      "strong multicollinearity or other numerical problems.\n"
     ]
    },
    {
     "name": "stderr",
     "output_type": "stream",
     "text": [
      "/opt/anaconda3/lib/python3.7/site-packages/scipy/stats/stats.py:1535: UserWarning: kurtosistest only valid for n>=20 ... continuing anyway, n=8\n",
      "  \"anyway, n=%i\" % int(n))\n"
     ]
    }
   ],
   "source": [
    "# group 6: Parkki\n",
    "data_parkki = data.loc[data['Species']=='Parkki']\n",
    "y_parkki = data_parkki['Weight']\n",
    "X_parkki = data_parkki.iloc[:,2:8]\n",
    "X_parkki_train, X_parkki_test, y_parkki_train, y_parkki_test = train_test_split(X_parkki, y_parkki, test_size=0.2, random_state=1)\n",
    "ols = sm.OLS(y_parkki_train, X_parkki_train)\n",
    "model_parkki = ols.fit()\n",
    "print(model_parkki.summary())"
   ]
  },
  {
   "cell_type": "code",
   "execution_count": 18,
   "metadata": {},
   "outputs": [
    {
     "name": "stdout",
     "output_type": "stream",
     "text": [
      "                            OLS Regression Results                            \n",
      "==============================================================================\n",
      "Dep. Variable:                 Weight   R-squared:                       1.000\n",
      "Model:                            OLS   Adj. R-squared:                    nan\n",
      "Method:                 Least Squares   F-statistic:                       nan\n",
      "Date:                Sat, 28 Nov 2020   Prob (F-statistic):                nan\n",
      "Time:                        10:23:56   Log-Likelihood:                 98.303\n",
      "No. Observations:                   4   AIC:                            -188.6\n",
      "Df Residuals:                       0   BIC:                            -191.1\n",
      "Df Model:                           3                                         \n",
      "Covariance Type:            nonrobust                                         \n",
      "==============================================================================\n",
      "                 coef    std err          t      P>|t|      [0.025      0.975]\n",
      "------------------------------------------------------------------------------\n",
      "Length1      325.1122        inf          0        nan         nan         nan\n",
      "Length2      -87.1648        inf         -0        nan         nan         nan\n",
      "Length3     -143.8400        inf         -0        nan         nan         nan\n",
      "Height      -152.9448        inf         -0        nan         nan         nan\n",
      "Width        102.2410        inf          0        nan         nan         nan\n",
      "constant    -160.6952        inf         -0        nan         nan         nan\n",
      "==============================================================================\n",
      "Omnibus:                          nan   Durbin-Watson:                   0.421\n",
      "Prob(Omnibus):                    nan   Jarque-Bera (JB):                0.562\n",
      "Skew:                          -0.139   Prob(JB):                        0.755\n",
      "Kurtosis:                       1.186   Cond. No.                     1.84e+03\n",
      "==============================================================================\n",
      "\n",
      "Warnings:\n",
      "[1] Standard Errors assume that the covariance matrix of the errors is correctly specified.\n",
      "[2] The input rank is higher than the number of observations.\n",
      "[3] The condition number is large, 1.84e+03. This might indicate that there are\n",
      "strong multicollinearity or other numerical problems.\n"
     ]
    },
    {
     "name": "stderr",
     "output_type": "stream",
     "text": [
      "/opt/anaconda3/lib/python3.7/site-packages/statsmodels/stats/stattools.py:71: ValueWarning: omni_normtest is not valid with less than 8 observations; 4 samples were given.\n",
      "  \"samples were given.\" % int(n), ValueWarning)\n",
      "/opt/anaconda3/lib/python3.7/site-packages/statsmodels/regression/linear_model.py:1698: RuntimeWarning: divide by zero encountered in true_divide\n",
      "  return 1 - (np.divide(self.nobs - self.k_constant, self.df_resid)\n",
      "/opt/anaconda3/lib/python3.7/site-packages/statsmodels/regression/linear_model.py:1699: RuntimeWarning: invalid value encountered in double_scalars\n",
      "  * (1 - self.rsquared))\n",
      "/opt/anaconda3/lib/python3.7/site-packages/statsmodels/regression/linear_model.py:1620: RuntimeWarning: divide by zero encountered in double_scalars\n",
      "  return np.dot(wresid, wresid) / self.df_resid\n"
     ]
    }
   ],
   "source": [
    "# group 6: Whitefish\n",
    "data_whitefish = data.loc[data['Species']=='Whitefish']\n",
    "y_whitefish = data_whitefish['Weight']\n",
    "X_whitefish = data_whitefish.iloc[:,2:8]\n",
    "X_whitefish_train, X_whitefish_test, y_whitefish_train, y_whitefish_test = train_test_split(X_whitefish, y_whitefish, test_size=0.2, random_state=1)\n",
    "ols = sm.OLS(y_whitefish_train, X_whitefish_train)\n",
    "model_whitefish = ols.fit()\n",
    "print(model_whitefish.summary())"
   ]
  },
  {
   "cell_type": "markdown",
   "metadata": {},
   "source": [
    "----"
   ]
  },
  {
   "cell_type": "code",
   "execution_count": 19,
   "metadata": {},
   "outputs": [
    {
     "name": "stdout",
     "output_type": "stream",
     "text": [
      "                            OLS Regression Results                            \n",
      "==============================================================================\n",
      "Dep. Variable:                 Weight   R-squared:                       0.883\n",
      "Model:                            OLS   Adj. R-squared:                  0.880\n",
      "Method:                 Least Squares   F-statistic:                     310.1\n",
      "Date:                Sat, 28 Nov 2020   Prob (F-statistic):           3.67e-57\n",
      "Time:                        10:24:01   Log-Likelihood:                -788.96\n",
      "No. Observations:                 127   AIC:                             1586.\n",
      "Df Residuals:                     123   BIC:                             1597.\n",
      "Df Model:                           3                                         \n",
      "Covariance Type:            nonrobust                                         \n",
      "==============================================================================\n",
      "                 coef    std err          t      P>|t|      [0.025      0.975]\n",
      "------------------------------------------------------------------------------\n",
      "Length1       19.6895      2.163      9.102      0.000      15.408      23.971\n",
      "Height         9.9545      4.253      2.340      0.021       1.536      18.373\n",
      "Width         65.2710     16.346      3.993      0.000      32.914      97.628\n",
      "constant    -497.5880     31.704    -15.695      0.000    -560.344    -434.832\n",
      "==============================================================================\n",
      "Omnibus:                       25.889   Durbin-Watson:                   1.970\n",
      "Prob(Omnibus):                  0.000   Jarque-Bera (JB):               38.457\n",
      "Skew:                           1.015   Prob(JB):                     4.46e-09\n",
      "Kurtosis:                       4.774   Cond. No.                         88.8\n",
      "==============================================================================\n",
      "\n",
      "Warnings:\n",
      "[1] Standard Errors assume that the covariance matrix of the errors is correctly specified.\n"
     ]
    }
   ],
   "source": [
    "# drop length2 and length 3\n",
    "data1 = data.drop('Length2',axis='columns').drop('Length3',axis='columns')\n",
    "y1 = data1['Weight']\n",
    "X1 = data1.iloc[:,2:6]\n",
    "X1_train, X1_test, y1_train, y1_test = train_test_split(X1, y1, test_size=0.2, random_state=1)\n",
    "model1 = sm.OLS(y1_train, X1_train).fit()\n",
    "print(model1.summary())"
   ]
  },
  {
   "cell_type": "code",
   "execution_count": 20,
   "metadata": {},
   "outputs": [
    {
     "name": "stdout",
     "output_type": "stream",
     "text": [
      "                            OLS Regression Results                            \n",
      "==============================================================================\n",
      "Dep. Variable:                 Weight   R-squared:                       0.882\n",
      "Model:                            OLS   Adj. R-squared:                  0.879\n",
      "Method:                 Least Squares   F-statistic:                     307.5\n",
      "Date:                Sat, 28 Nov 2020   Prob (F-statistic):           5.84e-57\n",
      "Time:                        10:24:04   Log-Likelihood:                -789.44\n",
      "No. Observations:                 127   AIC:                             1587.\n",
      "Df Residuals:                     123   BIC:                             1598.\n",
      "Df Model:                           3                                         \n",
      "Covariance Type:            nonrobust                                         \n",
      "==============================================================================\n",
      "                 coef    std err          t      P>|t|      [0.025      0.975]\n",
      "------------------------------------------------------------------------------\n",
      "Length2       18.5683      2.059      9.017      0.000      14.492      22.644\n",
      "Height         8.7390      4.243      2.059      0.042       0.340      17.138\n",
      "Width         65.7931     16.420      4.007      0.000      33.291      98.295\n",
      "constant    -499.5398     31.901    -15.659      0.000    -562.686    -436.394\n",
      "==============================================================================\n",
      "Omnibus:                       25.720   Durbin-Watson:                   1.962\n",
      "Prob(Omnibus):                  0.000   Jarque-Bera (JB):               37.324\n",
      "Skew:                           1.025   Prob(JB):                     7.85e-09\n",
      "Kurtosis:                       4.689   Cond. No.                         95.4\n",
      "==============================================================================\n",
      "\n",
      "Warnings:\n",
      "[1] Standard Errors assume that the covariance matrix of the errors is correctly specified.\n"
     ]
    }
   ],
   "source": [
    "data2 = data.drop('Length1',axis='columns').drop('Length3',axis='columns')\n",
    "y2 = data2['Weight']\n",
    "X2 = data2.iloc[:,2:6]\n",
    "X2_train, X2_test, y2_train, y2_test = train_test_split(X2, y2, test_size=0.2, random_state=1)\n",
    "model2 = sm.OLS(y2_train, X2_train).fit()\n",
    "print(model2.summary())"
   ]
  },
  {
   "cell_type": "code",
   "execution_count": 21,
   "metadata": {},
   "outputs": [
    {
     "name": "stdout",
     "output_type": "stream",
     "text": [
      "                            OLS Regression Results                            \n",
      "==============================================================================\n",
      "Dep. Variable:                 Weight   R-squared:                       0.879\n",
      "Model:                            OLS   Adj. R-squared:                  0.876\n",
      "Method:                 Least Squares   F-statistic:                     297.2\n",
      "Date:                Sat, 28 Nov 2020   Prob (F-statistic):           3.65e-56\n",
      "Time:                        10:24:06   Log-Likelihood:                -791.33\n",
      "No. Observations:                 127   AIC:                             1591.\n",
      "Df Residuals:                     123   BIC:                             1602.\n",
      "Df Model:                           3                                         \n",
      "Covariance Type:            nonrobust                                         \n",
      "==============================================================================\n",
      "                 coef    std err          t      P>|t|      [0.025      0.975]\n",
      "------------------------------------------------------------------------------\n",
      "Length3       16.7721      1.933      8.677      0.000      12.946      20.598\n",
      "Height         1.4296      4.232      0.338      0.736      -6.948       9.807\n",
      "Width         82.0628     15.475      5.303      0.000      51.430     112.695\n",
      "constant    -501.8240     32.527    -15.428      0.000    -566.209    -437.439\n",
      "==============================================================================\n",
      "Omnibus:                       25.823   Durbin-Watson:                   1.989\n",
      "Prob(Omnibus):                  0.000   Jarque-Bera (JB):               37.609\n",
      "Skew:                           1.026   Prob(JB):                     6.81e-09\n",
      "Kurtosis:                       4.701   Cond. No.                         104.\n",
      "==============================================================================\n",
      "\n",
      "Warnings:\n",
      "[1] Standard Errors assume that the covariance matrix of the errors is correctly specified.\n"
     ]
    }
   ],
   "source": [
    "data3 = data.drop('Length2',axis='columns').drop('Length1',axis='columns')\n",
    "y3 = data3['Weight']\n",
    "X3 = data3.iloc[:,2:6]\n",
    "X3_train, X3_test, y3_train, y3_test = train_test_split(X3, y3, test_size=0.2, random_state=1)\n",
    "model3 = sm.OLS(y3_train, X3_train).fit()\n",
    "print(model3.summary())"
   ]
  },
  {
   "cell_type": "markdown",
   "metadata": {},
   "source": [
    "---"
   ]
  },
  {
   "cell_type": "code",
   "execution_count": 22,
   "metadata": {},
   "outputs": [
    {
     "name": "stdout",
     "output_type": "stream",
     "text": [
      "                            OLS Regression Results                            \n",
      "==============================================================================\n",
      "Dep. Variable:                 Weight   R-squared:                       0.979\n",
      "Model:                            OLS   Adj. R-squared:                  0.979\n",
      "Method:                 Least Squares   F-statistic:                     1435.\n",
      "Date:                Sat, 28 Nov 2020   Prob (F-statistic):          1.59e-101\n",
      "Time:                        10:24:08   Log-Likelihood:                -679.44\n",
      "No. Observations:                 127   AIC:                             1369.\n",
      "Df Residuals:                     122   BIC:                             1383.\n",
      "Df Model:                           4                                         \n",
      "Covariance Type:            nonrobust                                         \n",
      "=================================================================================\n",
      "                    coef    std err          t      P>|t|      [0.025      0.975]\n",
      "---------------------------------------------------------------------------------\n",
      "Length1          43.4880     17.503      2.485      0.014       8.839      78.137\n",
      "Length2           5.1090     18.777      0.272      0.786     -32.062      42.280\n",
      "Length3         -31.7331      4.475     -7.092      0.000     -40.591     -22.875\n",
      "constant       -132.1664     18.197     -7.263      0.000    -168.188     -96.144\n",
      "Height*Weight     0.0503      0.002     28.350      0.000       0.047       0.054\n",
      "==============================================================================\n",
      "Omnibus:                       24.175   Durbin-Watson:                   1.890\n",
      "Prob(Omnibus):                  0.000   Jarque-Bera (JB):              168.314\n",
      "Skew:                           0.124   Prob(JB):                     2.83e-37\n",
      "Kurtosis:                       8.634   Cond. No.                     3.92e+04\n",
      "==============================================================================\n",
      "\n",
      "Warnings:\n",
      "[1] Standard Errors assume that the covariance matrix of the errors is correctly specified.\n",
      "[2] The condition number is large, 3.92e+04. This might indicate that there are\n",
      "strong multicollinearity or other numerical problems.\n"
     ]
    }
   ],
   "source": [
    "data['Height*Weight']=data['Height']*data['Weight']\n",
    "datap = data.drop('Height',axis='columns').drop('Width',axis='columns')\n",
    "yp = datap['Weight']\n",
    "Xp = datap.iloc[:,2:7]\n",
    "Xp_train, Xp_test, yp_train, yp_test = train_test_split(Xp, yp, test_size=0.2, random_state=1)\n",
    "modelp = sm.OLS(yp_train, Xp_train).fit()\n",
    "print(modelp.summary())"
   ]
  },
  {
   "cell_type": "markdown",
   "metadata": {},
   "source": [
    "---"
   ]
  },
  {
   "cell_type": "code",
   "execution_count": 23,
   "metadata": {},
   "outputs": [
    {
     "name": "stdout",
     "output_type": "stream",
     "text": [
      "                            OLS Regression Results                            \n",
      "==============================================================================\n",
      "Dep. Variable:                 Weight   R-squared:                       0.979\n",
      "Model:                            OLS   Adj. R-squared:                  0.979\n",
      "Method:                 Least Squares   F-statistic:                     1435.\n",
      "Date:                Sat, 28 Nov 2020   Prob (F-statistic):          1.59e-101\n",
      "Time:                        10:24:11   Log-Likelihood:                -679.44\n",
      "No. Observations:                 127   AIC:                             1369.\n",
      "Df Residuals:                     122   BIC:                             1383.\n",
      "Df Model:                           4                                         \n",
      "Covariance Type:            nonrobust                                         \n",
      "=================================================================================\n",
      "                    coef    std err          t      P>|t|      [0.025      0.975]\n",
      "---------------------------------------------------------------------------------\n",
      "Length1          43.4880     17.503      2.485      0.014       8.839      78.137\n",
      "Length2           5.1090     18.777      0.272      0.786     -32.062      42.280\n",
      "Length3         -31.7331      4.475     -7.092      0.000     -40.591     -22.875\n",
      "constant       -132.1664     18.197     -7.263      0.000    -168.188     -96.144\n",
      "Height*Weight     0.0503      0.002     28.350      0.000       0.047       0.054\n",
      "==============================================================================\n",
      "Omnibus:                       24.175   Durbin-Watson:                   1.890\n",
      "Prob(Omnibus):                  0.000   Jarque-Bera (JB):              168.314\n",
      "Skew:                           0.124   Prob(JB):                     2.83e-37\n",
      "Kurtosis:                       8.634   Cond. No.                     3.92e+04\n",
      "==============================================================================\n",
      "\n",
      "Warnings:\n",
      "[1] Standard Errors assume that the covariance matrix of the errors is correctly specified.\n",
      "[2] The condition number is large, 3.92e+04. This might indicate that there are\n",
      "strong multicollinearity or other numerical problems.\n"
     ]
    }
   ],
   "source": [
    "datapb = data.drop('Height',axis='columns').drop('Width',axis='columns').loc[data['Species']=='Bream']\n",
    "ypb = datap['Weight']\n",
    "Xpb = datap.iloc[:,2:7]\n",
    "Xpb_train, Xpb_test, ypb_train, ypb_test = train_test_split(Xpb, ypb, test_size=0.2, random_state=1)\n",
    "modelpb = sm.OLS(ypb_train, Xpb_train).fit()\n",
    "print(modelpb.summary())"
   ]
  },
  {
   "cell_type": "code",
   "execution_count": null,
   "metadata": {},
   "outputs": [],
   "source": []
  }
 ],
 "metadata": {
  "kernelspec": {
   "display_name": "Python 3",
   "language": "python",
   "name": "python3"
  },
  "language_info": {
   "codemirror_mode": {
    "name": "ipython",
    "version": 3
   },
   "file_extension": ".py",
   "mimetype": "text/x-python",
   "name": "python",
   "nbconvert_exporter": "python",
   "pygments_lexer": "ipython3",
   "version": "3.7.6"
  }
 },
 "nbformat": 4,
 "nbformat_minor": 4
}
