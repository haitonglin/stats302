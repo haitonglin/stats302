{
 "cells": [
  {
   "cell_type": "code",
   "execution_count": 1,
   "metadata": {},
   "outputs": [],
   "source": [
    "from tensorflow.keras.preprocessing import text_dataset_from_directory\n",
    "from tensorflow.strings import regex_replace\n",
    "from tensorflow.keras.layers.experimental.preprocessing import TextVectorization\n",
    "from tensorflow.keras.models import Sequential\n",
    "from tensorflow.keras import Input\n",
    "from tensorflow.keras.layers import Dense, LSTM, Embedding, Dropout"
   ]
  },
  {
   "cell_type": "code",
   "execution_count": 2,
   "metadata": {},
   "outputs": [
    {
     "name": "stdout",
     "output_type": "stream",
     "text": [
      "Found 25000 files belonging to 2 classes.\n",
      "Found 25000 files belonging to 2 classes.\n",
      "b'I got to see this film at a preview and was dazzled by it. It\\'s not the typical romantic comedy. I can\\'t remember laughing so hard at a film and yet being moved by it. The laughs aren\\'t gags here--they\\'re observations, laughs of recognition, little shocks of \"Oh, my God, I thought I was the only one who felt that way!\" I won\\'t give away the plot, which is more than just \"Guy falls in love with his brother\\'s girlfriend.\" The whole family plays a part in the relationship here. Probably the best blend of laughter and warmth since \"While You Were Sleeping.\"   Steve Carell goes much deeper than he\\'s gone before, and for the first time I really liked him. The cast is amazing, a list of veteran theater actors whom I\\'ve loved in other roles, but they blend to make a convincing family. Dianne Wiest is lovely as the mother, Juliette Binoche is luminous and hilarious (who knew she was funny?), and even the reviled Dane Cook gives a warm, quiet, touching performance. The Sondre Lerche soundtrack is a wonderful addition, and I\\'ll buy the CD the second it\\'s available.  Don\\'t miss this one.'\n",
      "1\n"
     ]
    }
   ],
   "source": [
    "def prepareData(dir):\n",
    "  data = text_dataset_from_directory(dir)\n",
    "  return data.map(\n",
    "    lambda text, label: (regex_replace(text, '<br />', ' '), label),\n",
    "  )\n",
    "\n",
    "train_data = prepareData('./train')\n",
    "test_data = prepareData('./test')\n",
    "\n",
    "for text_batch, label_batch in train_data.take(1):\n",
    "  print(text_batch.numpy()[0])\n",
    "  print(label_batch.numpy()[0]) # 0 = negative, 1 = positive"
   ]
  },
  {
   "cell_type": "code",
   "execution_count": 3,
   "metadata": {},
   "outputs": [],
   "source": [
    "model = Sequential()\n",
    "\n",
    "# 1. INPUT\n",
    "model.add(Input(shape=(1,), dtype=\"string\"))"
   ]
  },
  {
   "cell_type": "code",
   "execution_count": 4,
   "metadata": {},
   "outputs": [],
   "source": [
    "# TEXT VECTORIZATION\n",
    "max_tokens = 1000\n",
    "max_len = 100\n",
    "vectorize_layer = TextVectorization(max_tokens=max_tokens,output_mode=\"int\",output_sequence_length=max_len,)\n",
    "\n",
    "train_texts = train_data.map(lambda text, label: text)\n",
    "vectorize_layer.adapt(train_texts)\n",
    "\n",
    "model.add(vectorize_layer)"
   ]
  },
  {
   "cell_type": "code",
   "execution_count": 5,
   "metadata": {},
   "outputs": [],
   "source": [
    "# EMBEDDING\n",
    "model.add(Embedding(max_tokens + 1, 128))"
   ]
  },
  {
   "cell_type": "code",
   "execution_count": 6,
   "metadata": {},
   "outputs": [],
   "source": [
    "# RECURRENT LAYER\n",
    "model.add(LSTM(64))"
   ]
  },
  {
   "cell_type": "code",
   "execution_count": 7,
   "metadata": {},
   "outputs": [],
   "source": [
    "# DENSE HIDDEN LAYER\n",
    "model.add(Dense(64, activation=\"relu\"))"
   ]
  },
  {
   "cell_type": "code",
   "execution_count": 8,
   "metadata": {},
   "outputs": [],
   "source": [
    "# OUTPUT\n",
    "model.add(Dense(1, activation=\"sigmoid\"))"
   ]
  },
  {
   "cell_type": "code",
   "execution_count": 9,
   "metadata": {},
   "outputs": [
    {
     "data": {
      "text/plain": [
       "<tensorflow.python.keras.layers.core.Dense at 0x642cd23d0>"
      ]
     },
     "execution_count": 9,
     "metadata": {},
     "output_type": "execute_result"
    }
   ],
   "source": [
    "model.layers[-1]"
   ]
  },
  {
   "cell_type": "code",
   "execution_count": 10,
   "metadata": {},
   "outputs": [
    {
     "name": "stdout",
     "output_type": "stream",
     "text": [
      "Epoch 1/10\n",
      "782/782 [==============================] - 61s 78ms/step - loss: 0.5445 - accuracy: 0.7153\n",
      "Epoch 2/10\n",
      "782/782 [==============================] - 57s 73ms/step - loss: 0.4429 - accuracy: 0.7968\n",
      "Epoch 3/10\n",
      "782/782 [==============================] - 48s 61ms/step - loss: 0.4094 - accuracy: 0.8137\n",
      "Epoch 4/10\n",
      "782/782 [==============================] - 60s 77ms/step - loss: 0.3846 - accuracy: 0.8278\n",
      "Epoch 5/10\n",
      "782/782 [==============================] - 60s 77ms/step - loss: 0.3641 - accuracy: 0.8380\n",
      "Epoch 6/10\n",
      "782/782 [==============================] - 59s 75ms/step - loss: 0.3492 - accuracy: 0.8445\n",
      "Epoch 7/10\n",
      "782/782 [==============================] - 66s 84ms/step - loss: 0.3313 - accuracy: 0.8533\n",
      "Epoch 8/10\n",
      "782/782 [==============================] - 69s 88ms/step - loss: 0.3167 - accuracy: 0.8614\n",
      "Epoch 9/10\n",
      "782/782 [==============================] - 69s 88ms/step - loss: 0.3050 - accuracy: 0.8671\n",
      "Epoch 10/10\n",
      "782/782 [==============================] - 59s 75ms/step - loss: 0.2901 - accuracy: 0.8739\n"
     ]
    },
    {
     "data": {
      "text/plain": [
       "<tensorflow.python.training.tracking.util.CheckpointLoadStatus at 0x642ce0fd0>"
      ]
     },
     "execution_count": 10,
     "metadata": {},
     "output_type": "execute_result"
    }
   ],
   "source": [
    "# Compile and train the model\n",
    "model.compile(loss=\"binary_crossentropy\", optimizer=\"adam\", metrics=[\"accuracy\"])\n",
    "model.fit(train_data, epochs=10)\n",
    "\n",
    "model.save_weights('rnn')\n",
    "model.load_weights('rnn')"
   ]
  },
  {
   "cell_type": "code",
   "execution_count": 11,
   "metadata": {},
   "outputs": [
    {
     "name": "stdout",
     "output_type": "stream",
     "text": [
      "Model: \"sequential\"\n",
      "_________________________________________________________________\n",
      "Layer (type)                 Output Shape              Param #   \n",
      "=================================================================\n",
      "text_vectorization (TextVect (None, 100)               0         \n",
      "_________________________________________________________________\n",
      "embedding (Embedding)        (None, 100, 128)          128128    \n",
      "_________________________________________________________________\n",
      "lstm (LSTM)                  (None, 64)                49408     \n",
      "_________________________________________________________________\n",
      "dense (Dense)                (None, 64)                4160      \n",
      "_________________________________________________________________\n",
      "dense_1 (Dense)              (None, 1)                 65        \n",
      "=================================================================\n",
      "Total params: 181,761\n",
      "Trainable params: 181,761\n",
      "Non-trainable params: 0\n",
      "_________________________________________________________________\n"
     ]
    }
   ],
   "source": [
    "model.summary()"
   ]
  },
  {
   "cell_type": "code",
   "execution_count": 35,
   "metadata": {},
   "outputs": [
    {
     "name": "stdout",
     "output_type": "stream",
     "text": [
      "782/782 [==============================] - ETA: 0s - loss: 0.5206 - accuracy: 0.78 - 14s 17ms/step - loss: 0.5209 - accuracy: 0.7858\n"
     ]
    },
    {
     "data": {
      "text/plain": [
       "[0.5209300518035889, 0.7858399748802185]"
      ]
     },
     "execution_count": 35,
     "metadata": {},
     "output_type": "execute_result"
    }
   ],
   "source": [
    "model.evaluate(test_data)"
   ]
  },
  {
   "cell_type": "code",
   "execution_count": 36,
   "metadata": {},
   "outputs": [
    {
     "name": "stdout",
     "output_type": "stream",
     "text": [
      "[[0.986112]]\n",
      "[[0.04109952]]\n"
     ]
    }
   ],
   "source": [
    "print(model.predict([\n",
    "  \"i loved it! highly recommend it to everyone looking for a great movie to watch.\",\n",
    "]))\n",
    "print(model.predict([\n",
    "  \"this was awful and stupid! i hated it so much, it was just the absolute worst.\",\n",
    "]))"
   ]
  },
  {
   "cell_type": "code",
   "execution_count": 37,
   "metadata": {},
   "outputs": [
    {
     "name": "stdout",
     "output_type": "stream",
     "text": [
      "[[0.15412727]]\n",
      "[[0.45177472]]\n"
     ]
    }
   ],
   "source": [
    "print(model.predict([\n",
    "  \"this movie is awful and i love it.\",\n",
    "]))\n",
    "print(model.predict([\n",
    "  \"this movie is awful but i love it.\",\n",
    "]))"
   ]
  },
  {
   "cell_type": "code",
   "execution_count": null,
   "metadata": {},
   "outputs": [],
   "source": []
  }
 ],
 "metadata": {
  "kernelspec": {
   "display_name": "Python 3",
   "language": "python",
   "name": "python3"
  },
  "language_info": {
   "codemirror_mode": {
    "name": "ipython",
    "version": 3
   },
   "file_extension": ".py",
   "mimetype": "text/x-python",
   "name": "python",
   "nbconvert_exporter": "python",
   "pygments_lexer": "ipython3",
   "version": "3.7.6"
  }
 },
 "nbformat": 4,
 "nbformat_minor": 4
}
